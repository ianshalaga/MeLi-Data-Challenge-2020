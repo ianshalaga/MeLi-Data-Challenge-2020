{
  "nbformat": 4,
  "nbformat_minor": 0,
  "metadata": {
    "colab": {
      "name": "MeLi Data Challenge 2020",
      "provenance": [],
      "collapsed_sections": [],
      "authorship_tag": "ABX9TyMy+dLR2UxQMgb3O5Otd1RB",
      "include_colab_link": true
    },
    "kernelspec": {
      "name": "python3",
      "display_name": "Python 3"
    }
  },
  "cells": [
    {
      "cell_type": "markdown",
      "metadata": {
        "id": "view-in-github",
        "colab_type": "text"
      },
      "source": [
        "<a href=\"https://colab.research.google.com/github/ianshalaga/MeLi-Data-Challenge-2020/blob/master/MeLi_Data_Challenge_2020.ipynb\" target=\"_parent\"><img src=\"https://colab.research.google.com/assets/colab-badge.svg\" alt=\"Open In Colab\"/></a>"
      ]
    },
    {
      "cell_type": "markdown",
      "metadata": {
        "id": "ZWCelWPOFgNo"
      },
      "source": [
        "# Rutas"
      ]
    },
    {
      "cell_type": "code",
      "metadata": {
        "id": "-Jk2GUHBFfSo",
        "outputId": "ea96f1a7-4f5e-4be6-f849-f130bb505a5e",
        "colab": {
          "base_uri": "https://localhost:8080/"
        }
      },
      "source": [
        "from google.colab import drive # Para poder cargar los archivos que se encuentran en google drive\n",
        "import os\n",
        "\n",
        "drive.mount('/content/drive', force_remount=True)\n",
        "\n",
        "items_dict_ruta = '/content/drive/My Drive/Proyectos/MeLi Data Challenge 2020/items_dict.pickle'\n",
        "items_data_dict_ruta = '/content/drive/My Drive/Proyectos/MeLi Data Challenge 2020/items_data_dict.pickle'"
      ],
      "execution_count": 48,
      "outputs": [
        {
          "output_type": "stream",
          "text": [
            "Mounted at /content/drive\n"
          ],
          "name": "stdout"
        }
      ]
    },
    {
      "cell_type": "code",
      "metadata": {
        "id": "RP9YsD2U1V0x"
      },
      "source": [
        "import pickle"
      ],
      "execution_count": null,
      "outputs": []
    },
    {
      "cell_type": "markdown",
      "metadata": {
        "id": "1Jz_0WTdFl9C"
      },
      "source": [
        "# Generar dataset"
      ]
    },
    {
      "cell_type": "code",
      "metadata": {
        "id": "fT8447w1ZghL",
        "outputId": "7627b261-7cb8-442d-e39b-2d5bb41814a8",
        "colab": {
          "base_uri": "https://localhost:8080/"
        }
      },
      "source": [
        "import pickle\n",
        "\n",
        "\n",
        "# Carga del diccionario de items\n",
        "with open(items_dict_ruta, \"rb\") as handle:\n",
        "  items_dict = pickle.load(handle)\n",
        "\n",
        "\n",
        "ejemplo = '{\"user_history\": [{\"event_info\": 1786148, \"event_timestamp\": \"2019-10-19T11:25:42.444-0400\", \"event_type\": \"view\"}, {\"event_info\": 1786148, \"event_timestamp\": \"2019-10-19T11:25:57.487-0400\", \"event_type\": \"view\"}, {\"event_info\": \"RELOGIO SMARTWATCH\", \"event_timestamp\": \"2019-10-19T11:26:07.063-0400\", \"event_type\": \"search\"}, {\"event_info\": 1615991, \"event_timestamp\": \"2019-10-19T11:27:26.879-0400\", \"event_type\": \"view\"}, {\"event_info\": 1615991, \"event_timestamp\": \"2019-10-19T11:28:36.558-0400\", \"event_type\": \"view\"}, {\"event_info\": 1615991, \"event_timestamp\": \"2019-10-19T11:28:40.827-0400\", \"event_type\": \"view\"}, {\"event_info\": 1615991, \"event_timestamp\": \"2019-10-19T11:30:42.089-0400\", \"event_type\": \"view\"}, {\"event_info\": 1615991, \"event_timestamp\": \"2019-10-19T21:51:29.622-0400\", \"event_type\": \"view\"}, {\"event_info\": 1615991, \"event_timestamp\": \"2019-10-19T21:52:09.281-0400\", \"event_type\": \"view\"}, {\"event_info\": 1615991, \"event_timestamp\": \"2019-10-19T21:52:41.863-0400\", \"event_type\": \"view\"}, {\"event_info\": 1615991, \"event_timestamp\": \"2019-10-19T21:54:16.119-0400\", \"event_type\": \"view\"}, {\"event_info\": 1615991, \"event_timestamp\": \"2019-10-19T21:54:40.629-0400\", \"event_type\": \"view\"}, {\"event_info\": 1615991, \"event_timestamp\": \"2019-10-19T21:54:57.329-0400\", \"event_type\": \"view\"}, {\"event_info\": 1615991, \"event_timestamp\": \"2019-10-19T22:00:04.577-0400\", \"event_type\": \"view\"}, {\"event_info\": 1615991, \"event_timestamp\": \"2019-10-20T10:36:47.525-0400\", \"event_type\": \"view\"}, {\"event_info\": 1615991, \"event_timestamp\": \"2019-10-20T10:37:23.202-0400\", \"event_type\": \"view\"}, {\"event_info\": 1615991, \"event_timestamp\": \"2019-10-20T10:37:47.699-0400\", \"event_type\": \"view\"}, {\"event_info\": 1615991, \"event_timestamp\": \"2019-10-20T19:28:14.619-0400\", \"event_type\": \"view\"}, {\"event_info\": 1615991, \"event_timestamp\": \"2019-10-20T19:28:41.646-0400\", \"event_type\": \"view\"}], \"item_bought\": 1748830}'\n",
        "\n",
        "\n",
        "\n",
        "\n",
        "\n",
        "ejemplo_procesado = ejemplo[1:-1].split('], ') # Se dejan da lado las llaves de inicio y fin\n",
        "\n",
        "# for e in ejemplo_procesado:\n",
        "#   print(e)\n",
        "\n",
        "x = ejemplo_procesado[0].split(\": [\")[1][1:-1].split(\"}, {\")\n",
        "# print(x)\n",
        "y = ejemplo_procesado[1].split(\" \")[1]\n",
        "# print(y)\n",
        "\n",
        "# # print(x)\n",
        "\n",
        "for e in x:\n",
        "  eventos = e.split(\", \")\n",
        "  evento_tipo = eventos[-1].split(\": \")[-1][1:-1]\n",
        "  evento_info = eventos[0].split(\": \")[-1]\n",
        "\n",
        "  print(evento_info)\n",
        "  if evento_tipo == \"view\" or evento_tipo == \"purchase\":\n",
        "    print(items_dict[evento_info])\n",
        "    # cadena = items_dict[evento_info]\n",
        "  elif evento_tipo == \"search\":\n",
        "    cadena = evento_info[1:-1]\n",
        "    print(cadena)\n",
        "\n",
        "print(len(x))\n",
        "\n",
        "# 1748830\n",
        "\n",
        "\n",
        "\n"
      ],
      "execution_count": 57,
      "outputs": [
        {
          "output_type": "stream",
          "text": [
            "1786148\n",
            " rel\\u00f3gio inteligente smartwatch gt08 touch screen oferta 119.99 new\n",
            "1786148\n",
            " rel\\u00f3gio inteligente smartwatch gt08 touch screen oferta 119.99 new\n",
            "\"RELOGIO SMARTWATCH\"\n",
            "RELOGIO SMARTWATCH\n",
            "1615991\n",
            " mochila gal\\u00e1xia compartimento p/ laptop 79.71 new\n",
            "1615991\n",
            " mochila gal\\u00e1xia compartimento p/ laptop 79.71 new\n",
            "1615991\n",
            " mochila gal\\u00e1xia compartimento p/ laptop 79.71 new\n",
            "1615991\n",
            " mochila gal\\u00e1xia compartimento p/ laptop 79.71 new\n",
            "1615991\n",
            " mochila gal\\u00e1xia compartimento p/ laptop 79.71 new\n",
            "1615991\n",
            " mochila gal\\u00e1xia compartimento p/ laptop 79.71 new\n",
            "1615991\n",
            " mochila gal\\u00e1xia compartimento p/ laptop 79.71 new\n",
            "1615991\n",
            " mochila gal\\u00e1xia compartimento p/ laptop 79.71 new\n",
            "1615991\n",
            " mochila gal\\u00e1xia compartimento p/ laptop 79.71 new\n",
            "1615991\n",
            " mochila gal\\u00e1xia compartimento p/ laptop 79.71 new\n",
            "1615991\n",
            " mochila gal\\u00e1xia compartimento p/ laptop 79.71 new\n",
            "1615991\n",
            " mochila gal\\u00e1xia compartimento p/ laptop 79.71 new\n",
            "1615991\n",
            " mochila gal\\u00e1xia compartimento p/ laptop 79.71 new\n",
            "1615991\n",
            " mochila gal\\u00e1xia compartimento p/ laptop 79.71 new\n",
            "1615991\n",
            " mochila gal\\u00e1xia compartimento p/ laptop 79.71 new\n",
            "1615991\n",
            " mochila gal\\u00e1xia compartimento p/ laptop 79.71 new\n",
            "19\n"
          ],
          "name": "stdout"
        }
      ]
    }
  ]
}